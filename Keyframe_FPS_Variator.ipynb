{
  "nbformat": 4,
  "nbformat_minor": 0,
  "metadata": {
    "colab": {
      "provenance": [],
      "collapsed_sections": [
        "O3lBCYWx9ajF"
      ]
    },
    "kernelspec": {
      "name": "python3",
      "display_name": "Python 3"
    },
    "language_info": {
      "name": "python"
    }
  },
  "cells": [
    {
      "cell_type": "markdown",
      "source": [
        "# Motion Parameter Keyframe ***FPS*** Variator"
      ],
      "metadata": {
        "id": "y1bafDc2vm0V"
      }
    },
    {
      "cell_type": "code",
      "source": [
        "#@title Paste your respective schedules and set your original and target fps values\n",
        "import re\n",
        "from collections import defaultdict\n",
        "\n",
        "# Define the scaling function\n",
        "def scale_keyframes(param_string, original_fps, new_fps):\n",
        "    # Regular expression to match keyframe:value pairs\n",
        "    pattern = r\"(\\d+):\\(([^)]+)\\)\"\n",
        "    matches = re.findall(pattern, param_string)\n",
        "\n",
        "    # Dictionary to accumulate values for the same scaled frame\n",
        "    scaled_keyframes_dict = defaultdict(list)\n",
        "\n",
        "    # Scale keyframes\n",
        "    for frame, value in matches:\n",
        "        scaled_frame = int(frame) * new_fps // original_fps\n",
        "        scaled_keyframes_dict[scaled_frame].append(float(value))\n",
        "\n",
        "    # Average the values for frames that have multiple entries\n",
        "    scaled_keyframes = []\n",
        "    for frame, values in sorted(scaled_keyframes_dict.items()):\n",
        "        avg_value = sum(values) / len(values)\n",
        "        scaled_keyframes.append((frame, avg_value))\n",
        "\n",
        "    # Format the scaled keyframes back to the string\n",
        "    scaled_string = \", \".join(f\"{frame}:({value:.2f})\" for frame, value in scaled_keyframes)\n",
        "    return scaled_string\n",
        "\n",
        "# Define the original and new FPS\n",
        "original_fps = 30  #@param {type:\"number\"}\n",
        "new_fps = 24  #@param {type:\"number\"}\n",
        "\n",
        "# Define the input parameters using #@param\n",
        "zoom = \"\"  #@param {type:\"string\"}\n",
        "translation_x = \"\"  #@param {type:\"string\"}\n",
        "translation_y = \"\"  #@param {type:\"string\"}\n",
        "translation_z = \"\"  #@param {type:\"string\"}\n",
        "rotation_3d_x = \"\"  #@param {type:\"string\"}\n",
        "rotation_3d_y = \"\"  #@param {type:\"string\"}\n",
        "rotation_3d_z = \"\"  #@param {type:\"string\"}\n",
        "strength_schedule = \"\"  #@param {type:\"string\"}\n",
        "\n",
        "# Define parameters dictionary\n",
        "parameters = {\n",
        "    \"zoom\": zoom,\n",
        "    \"translation_x\": translation_x,\n",
        "    \"translation_y\": translation_y,\n",
        "    \"translation_z\": translation_z,\n",
        "    \"rotation_3d_x\": rotation_3d_x,\n",
        "    \"rotation_3d_y\": rotation_3d_y,\n",
        "    \"rotation_3d_z\": rotation_3d_z,\n",
        "    \"strength_schedule\": strength_schedule\n",
        "}\n",
        "\n",
        "# Output scaled parameters\n",
        "for param, value in parameters.items():\n",
        "    scaled_param_string = scale_keyframes(value, original_fps, new_fps)\n",
        "    print(f\"{param} = \\\"{scaled_param_string}\\\"\")\n"
      ],
      "metadata": {
        "cellView": "form",
        "id": "yH1UNlkJhFf2"
      },
      "execution_count": null,
      "outputs": []
    },
    {
      "cell_type": "markdown",
      "source": [
        "# Text Prompt Keyframe ***FPS*** VARIATOR\n",
        "\n",
        "Paste in your text prompts as you see in the \"text cell\" below, and set your original and your target fps"
      ],
      "metadata": {
        "id": "O3lBCYWx9ajF"
      }
    },
    {
      "cell_type": "code",
      "source": [
        "#@title Set your original and target fps values\n",
        "def parse_keyframes(keyframe_str):\n",
        "    keyframe_pairs = keyframe_str.split(\", \")\n",
        "    keyframes = {}\n",
        "    for pair in keyframe_pairs:\n",
        "        frame, value = pair.split(\":\")\n",
        "        frame = int(frame)\n",
        "        value = float(value.strip(\"()\"))\n",
        "        keyframes[frame] = value\n",
        "    return keyframes\n",
        "\n",
        "def scale_keyframes(keyframes, original_fps, target_fps):\n",
        "    scaled_keyframes = {}\n",
        "    scale_factor = target_fps / original_fps\n",
        "\n",
        "    for frame, value in keyframes.items():\n",
        "        new_frame = int(frame * scale_factor)\n",
        "        scaled_keyframes[new_frame] = value\n",
        "\n",
        "    return scaled_keyframes\n",
        "\n",
        "original_fps = 30 #@param\n",
        "target_fps = 24 #@param"
      ],
      "metadata": {
        "id": "9ybLVlGskxm9"
      },
      "execution_count": null,
      "outputs": []
    },
    {
      "cell_type": "code",
      "source": [
        "#@title Text Cell\n",
        "text_prompts = {\n",
        "    0: \"a prompt goes here\",\n",
        "    100: \"another prompt goes here\",\n",
        "    200: \"yet another prompt\",\n",
        "    300: \"more prompts here\",\n",
        "    400: \"prompt again\"\n",
        "}"
      ],
      "metadata": {
        "id": "hGTYBCV5uXky"
      },
      "execution_count": null,
      "outputs": []
    },
    {
      "cell_type": "code",
      "source": [
        "#@title Do it\n",
        "scaled_text_prompts = scale_keyframes(text_prompts, original_fps, target_fps)\n",
        "\n",
        "print(\"\\nScaled Text Prompts:\")\n",
        "for frame, prompt in scaled_text_prompts.items():\n",
        "    print(f\"{frame}: \\\"{prompt}\\\",\")\n"
      ],
      "metadata": {
        "colab": {
          "base_uri": "https://localhost:8080/"
        },
        "cellView": "form",
        "id": "BNcnEPU6uaNx",
        "outputId": "5b8cbafd-894f-4866-e4bc-5ce5e6e1eb45"
      },
      "execution_count": null,
      "outputs": [
        {
          "output_type": "stream",
          "name": "stdout",
          "text": [
            "\n",
            "Scaled Text Prompts:\n",
            "0: \"a prompt goes here\",\n",
            "80: \"another prompt goes here\",\n",
            "160: \"yet another prompt\",\n",
            "240: \"more prompts here\",\n",
            "320: \"prompt again\",\n"
          ]
        }
      ]
    }
  ]
}